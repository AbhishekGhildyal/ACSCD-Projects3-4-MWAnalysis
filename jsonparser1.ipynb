{
 "cells": [
  {
   "cell_type": "code",
   "execution_count": 67,
   "metadata": {},
   "outputs": [
    {
     "name": "stdout",
     "output_type": "stream",
     "text": [
      "ec7report.json\n",
      "43breport.json\n",
      "5e8report.json\n",
      "b21report.json\n",
      "1f8report.json\n",
      "3691report.json\n",
      "c07report.json\n",
      "09ereport.json\n",
      "1b4report.json\n",
      "e01report.json\n",
      "End\n"
     ]
    }
   ],
   "source": [
    "import json\n",
    "import os\n",
    "import sys \n",
    "\n",
    "featuredata=open(r\"Documents/Features.csv\",\"w\")\n",
    "L = [\"File Name,\", \"Files Deleted,\", \"Files Created,\",\"DLLs Loaded,\",\"PE File?\\n\"] \n",
    "featuredata.writelines(L) \n",
    "\n",
    "entries = os.listdir('Documents/Project 2 - Malware Analysis/Malicious Report')\n",
    "for entry in entries:\n",
    "    print(entry)\n",
    "    with open('Documents/Project 2 - Malware Analysis/Malicious Report/'+entry) as f:\n",
    "      data = json.load(f)\n",
    "    \n",
    "    featuredata.write(entry+\",\")\n",
    "    try:\n",
    "        featuredata.write(str(len(data['behavior']['summary']['file_deleted']))+\",\")\n",
    "    except:\n",
    "        featuredata.write(\"0,\")\n",
    "    \n",
    "    try:\n",
    "        featuredata.write(str(len(data['behavior']['summary']['file_created']))+\",\")\n",
    "    except:\n",
    "        featuredata.write('0,')\n",
    "    \n",
    "    try:\n",
    "        featuredata.write(str(len(data['behavior']['summary']['dll_loaded']))+\",\")\n",
    "    except:\n",
    "        print('0,')\n",
    "    \n",
    "    try:\n",
    "        for element in data['strings']:\n",
    "            if element == 'PECompact2':\n",
    "                PEFile=\"1\"\n",
    "                break;\n",
    "            else:\n",
    "                PEFile=\"0\"\n",
    "        featuredata.write(PEFile +\",\\n\")    \n",
    "    except:\n",
    "        print('0,\\n')\n",
    "            \n",
    "    \n",
    "featuredata.close() \n",
    "print(\"End\")\n"
   ]
  },
  {
   "cell_type": "code",
   "execution_count": null,
   "metadata": {},
   "outputs": [],
   "source": []
  },
  {
   "cell_type": "code",
   "execution_count": null,
   "metadata": {},
   "outputs": [],
   "source": []
  },
  {
   "cell_type": "code",
   "execution_count": null,
   "metadata": {},
   "outputs": [],
   "source": []
  }
 ],
 "metadata": {
  "kernelspec": {
   "display_name": "Python 3",
   "language": "python",
   "name": "python3"
  },
  "language_info": {
   "codemirror_mode": {
    "name": "ipython",
    "version": 3
   },
   "file_extension": ".py",
   "mimetype": "text/x-python",
   "name": "python",
   "nbconvert_exporter": "python",
   "pygments_lexer": "ipython3",
   "version": "3.7.6"
  }
 },
 "nbformat": 4,
 "nbformat_minor": 4
}
